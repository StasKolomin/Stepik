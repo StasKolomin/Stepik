{
 "cells": [
  {
   "cell_type": "markdown",
   "metadata": {},
   "source": [
    "Протестировал работу с нестандартными символами. Необходимо было отсортировать в \"правильном порядке\""
   ]
  },
  {
   "cell_type": "code",
   "execution_count": 1,
   "metadata": {},
   "outputs": [
    {
     "data": {
      "text/plain": [
       "['CÂNFORA',\n",
       " 'ENXOFRE',\n",
       " 'MENTOL',\n",
       " 'SALICILATO DE FENILA',\n",
       " 'ÁCIDO BÓRICO',\n",
       " 'ÓXIDO DE ZINCO']"
      ]
     },
     "execution_count": 1,
     "metadata": {},
     "output_type": "execute_result"
    }
   ],
   "source": [
    "sorted(['CÂNFORA', 'ENXOFRE', 'MENTOL', 'ÁCIDO BÓRICO', 'SALICILATO DE FENILA', 'ÓXIDO DE ZINCO'])"
   ]
  },
  {
   "cell_type": "code",
   "execution_count": 4,
   "metadata": {},
   "outputs": [
    {
     "name": "stdout",
     "output_type": "stream",
     "text": [
      "Requirement already satisfied: czech-sort in c:\\users\\stask\\anaconda3\\envs\\dls\\lib\\site-packages (1.0.0)\n"
     ]
    }
   ],
   "source": [
    "!pip install czech-sort"
   ]
  },
  {
   "cell_type": "code",
   "execution_count": 7,
   "metadata": {},
   "outputs": [
    {
     "ename": "ModuleNotFoundError",
     "evalue": "No module named 'czech_sort'",
     "output_type": "error",
     "traceback": [
      "\u001b[1;31m---------------------------------------------------------------------------\u001b[0m",
      "\u001b[1;31mModuleNotFoundError\u001b[0m                       Traceback (most recent call last)",
      "\u001b[1;32m<ipython-input-7-c4de5f68bf87>\u001b[0m in \u001b[0;36m<module>\u001b[1;34m\u001b[0m\n\u001b[1;32m----> 1\u001b[1;33m \u001b[1;32mimport\u001b[0m \u001b[0mczech_sort\u001b[0m\u001b[1;33m\u001b[0m\u001b[1;33m\u001b[0m\u001b[0m\n\u001b[0m",
      "\u001b[1;31mModuleNotFoundError\u001b[0m: No module named 'czech_sort'"
     ]
    }
   ],
   "source": [
    "import czech_sort"
   ]
  },
  {
   "cell_type": "code",
   "execution_count": 2,
   "metadata": {},
   "outputs": [
    {
     "ename": "NameError",
     "evalue": "name 'czech_sort' is not defined",
     "output_type": "error",
     "traceback": [
      "\u001b[1;31m---------------------------------------------------------------------------\u001b[0m",
      "\u001b[1;31mNameError\u001b[0m                                 Traceback (most recent call last)",
      "\u001b[1;32m<ipython-input-2-0ac4802b1c86>\u001b[0m in \u001b[0;36m<module>\u001b[1;34m\u001b[0m\n\u001b[1;32m----> 1\u001b[1;33m \u001b[0mczech_sort\u001b[0m\u001b[1;33m.\u001b[0m\u001b[0msorted\u001b[0m\u001b[1;33m(\u001b[0m\u001b[1;33m[\u001b[0m\u001b[1;34m'CÂNFORA'\u001b[0m\u001b[1;33m,\u001b[0m \u001b[1;34m'ENXOFRE'\u001b[0m\u001b[1;33m,\u001b[0m \u001b[1;34m'MENTOL'\u001b[0m\u001b[1;33m,\u001b[0m \u001b[1;34m'ÁCIDO BÓRICO'\u001b[0m\u001b[1;33m,\u001b[0m \u001b[1;34m'SALICILATO DE FENILA'\u001b[0m\u001b[1;33m,\u001b[0m \u001b[1;34m'ÓXIDO DE ZINCO'\u001b[0m\u001b[1;33m]\u001b[0m\u001b[1;33m)\u001b[0m\u001b[1;33m\u001b[0m\u001b[1;33m\u001b[0m\u001b[0m\n\u001b[0m",
      "\u001b[1;31mNameError\u001b[0m: name 'czech_sort' is not defined"
     ]
    }
   ],
   "source": [
    "czech_sort.sorted(['CÂNFORA', 'ENXOFRE', 'MENTOL', 'ÁCIDO BÓRICO', 'SALICILATO DE FENILA', 'ÓXIDO DE ZINCO'])"
   ]
  },
  {
   "cell_type": "code",
   "execution_count": null,
   "metadata": {},
   "outputs": [],
   "source": [
    "# from unidecode import unidecode\n",
    "import re\n",
    "import sys\n",
    "\n",
    "articles = ['a', 'an', 'the', 'disney', 'disneys']\n",
    "punct = re.compile(r'[^\\w ]')\n",
    "\n",
    "titles = sys.stdin.readlines()\n",
    "titles = [ t.strip() for t in titles ]\n",
    "\n",
    "def titlekey(title):\n",
    "        s = title.lower()\n",
    "        s = punct.sub('', s)\n",
    "        w = s.split()\n",
    "        while w[0] in articles:\n",
    "                w = w[1:] + w[:1]\n",
    "        return w\n",
    "\n",
    "titles.sort(key=titlekey)\n",
    "print('\\n'.join(titles))"
   ]
  },
  {
   "cell_type": "code",
   "execution_count": 26,
   "metadata": {},
   "outputs": [],
   "source": [
    "articles.sort(key=titlekey)"
   ]
  }
 ],
 "metadata": {
  "kernelspec": {
   "display_name": "Python 3",
   "language": "python",
   "name": "python3"
  },
  "language_info": {
   "codemirror_mode": {
    "name": "ipython",
    "version": 3
   },
   "file_extension": ".py",
   "mimetype": "text/x-python",
   "name": "python",
   "nbconvert_exporter": "python",
   "pygments_lexer": "ipython3",
   "version": "3.8.3"
  }
 },
 "nbformat": 4,
 "nbformat_minor": 4
}
